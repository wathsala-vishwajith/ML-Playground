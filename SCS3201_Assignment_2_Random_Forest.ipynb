{
  "nbformat": 4,
  "nbformat_minor": 0,
  "metadata": {
    "colab": {
      "provenance": [],
      "authorship_tag": "ABX9TyNQbz+kjpHk8aHH4s6WKj2j",
      "include_colab_link": true
    },
    "kernelspec": {
      "name": "python3",
      "display_name": "Python 3"
    },
    "language_info": {
      "name": "python"
    }
  },
  "cells": [
    {
      "cell_type": "markdown",
      "metadata": {
        "id": "view-in-github",
        "colab_type": "text"
      },
      "source": [
        "<a href=\"https://colab.research.google.com/github/wathsala-vishwajith/ML-Playground/blob/main/SCS3201_Assignment_2_Random_Forest.ipynb\" target=\"_parent\"><img src=\"https://colab.research.google.com/assets/colab-badge.svg\" alt=\"Open In Colab\"/></a>"
      ]
    },
    {
      "cell_type": "markdown",
      "source": [
        "##Random Forest Assignment \n",
        "---\n"
      ],
      "metadata": {
        "id": "jPR0vw5MpPQ2"
      }
    },
    {
      "cell_type": "markdown",
      "source": [
        "Import libaries"
      ],
      "metadata": {
        "id": "no0XNocpwNXV"
      }
    },
    {
      "cell_type": "code",
      "source": [
        "%matplotlib inline\n",
        "import numpy as np\n",
        "import matplotlib.pyplot as plt\n",
        "import pandas as pd"
      ],
      "metadata": {
        "id": "09n8PYbmwLEo"
      },
      "execution_count": 4,
      "outputs": []
    },
    {
      "cell_type": "code",
      "source": [
        "import pandas\n",
        "print(pandas.__version__)"
      ],
      "metadata": {
        "colab": {
          "base_uri": "https://localhost:8080/"
        },
        "id": "fi3crXz6-URB",
        "outputId": "5e4436fb-a6cb-4f5f-b124-838f2ce24ace"
      },
      "execution_count": 48,
      "outputs": [
        {
          "output_type": "stream",
          "name": "stdout",
          "text": [
            "1.3.5\n"
          ]
        }
      ]
    },
    {
      "cell_type": "markdown",
      "source": [
        "Import the dataset"
      ],
      "metadata": {
        "id": "rHJffyxxpa3k"
      }
    },
    {
      "cell_type": "code",
      "source": [
        "!wget https://archive.ics.uci.edu/ml/machine-learning-databases/car/car.data\n",
        "!wget https://archive.ics.uci.edu/ml/machine-learning-databases/car/car.names"
      ],
      "metadata": {
        "id": "3C1H9VSKpacK",
        "colab": {
          "base_uri": "https://localhost:8080/"
        },
        "outputId": "6e6fa6e6-8f57-49d2-a44a-d0b0318e30ba"
      },
      "execution_count": 1,
      "outputs": [
        {
          "output_type": "stream",
          "name": "stdout",
          "text": [
            "--2022-09-19 12:29:19--  https://archive.ics.uci.edu/ml/machine-learning-databases/car/car.data\n",
            "Resolving archive.ics.uci.edu (archive.ics.uci.edu)... 128.195.10.252\n",
            "Connecting to archive.ics.uci.edu (archive.ics.uci.edu)|128.195.10.252|:443... connected.\n",
            "HTTP request sent, awaiting response... 200 OK\n",
            "Length: 51867 (51K) [application/x-httpd-php]\n",
            "Saving to: ‘car.data’\n",
            "\n",
            "car.data            100%[===================>]  50.65K  --.-KB/s    in 0.1s    \n",
            "\n",
            "2022-09-19 12:29:19 (385 KB/s) - ‘car.data’ saved [51867/51867]\n",
            "\n",
            "--2022-09-19 12:29:19--  https://archive.ics.uci.edu/ml/machine-learning-databases/car/car.names\n",
            "Resolving archive.ics.uci.edu (archive.ics.uci.edu)... 128.195.10.252\n",
            "Connecting to archive.ics.uci.edu (archive.ics.uci.edu)|128.195.10.252|:443... connected.\n",
            "HTTP request sent, awaiting response... 200 OK\n",
            "Length: 3097 (3.0K) [application/x-httpd-php]\n",
            "Saving to: ‘car.names’\n",
            "\n",
            "car.names           100%[===================>]   3.02K  --.-KB/s    in 0s      \n",
            "\n",
            "2022-09-19 12:29:20 (70.2 MB/s) - ‘car.names’ saved [3097/3097]\n",
            "\n"
          ]
        }
      ]
    },
    {
      "cell_type": "code",
      "source": [
        "!cat car.names\n",
        "!head car.data"
      ],
      "metadata": {
        "id": "_oPmjkYZpOMX",
        "colab": {
          "base_uri": "https://localhost:8080/"
        },
        "outputId": "eb0a3b55-b45a-4dd9-8bc5-51cdd181cc4f"
      },
      "execution_count": 3,
      "outputs": [
        {
          "output_type": "stream",
          "name": "stdout",
          "text": [
            "1. Title: Car Evaluation Database\n",
            "\n",
            "2. Sources:\n",
            "   (a) Creator: Marko Bohanec\n",
            "   (b) Donors: Marko Bohanec   (marko.bohanec@ijs.si)\n",
            "               Blaz Zupan      (blaz.zupan@ijs.si)\n",
            "   (c) Date: June, 1997\n",
            "\n",
            "3. Past Usage:\n",
            "\n",
            "   The hierarchical decision model, from which this dataset is\n",
            "   derived, was first presented in \n",
            "\n",
            "   M. Bohanec and V. Rajkovic: Knowledge acquisition and explanation for\n",
            "   multi-attribute decision making. In 8th Intl Workshop on Expert\n",
            "   Systems and their Applications, Avignon, France. pages 59-78, 1988.\n",
            "\n",
            "   Within machine-learning, this dataset was used for the evaluation\n",
            "   of HINT (Hierarchy INduction Tool), which was proved to be able to\n",
            "   completely reconstruct the original hierarchical model. This,\n",
            "   together with a comparison with C4.5, is presented in\n",
            "\n",
            "   B. Zupan, M. Bohanec, I. Bratko, J. Demsar: Machine learning by\n",
            "   function decomposition. ICML-97, Nashville, TN. 1997 (to appear)\n",
            "\n",
            "4. Relevant Information Paragraph:\n",
            "\n",
            "   Car Evaluation Database was derived from a simple hierarchical\n",
            "   decision model originally developed for the demonstration of DEX\n",
            "   (M. Bohanec, V. Rajkovic: Expert system for decision\n",
            "   making. Sistemica 1(1), pp. 145-157, 1990.). The model evaluates\n",
            "   cars according to the following concept structure:\n",
            "\n",
            "   CAR                      car acceptability\n",
            "   . PRICE                  overall price\n",
            "   . . buying               buying price\n",
            "   . . maint                price of the maintenance\n",
            "   . TECH                   technical characteristics\n",
            "   . . COMFORT              comfort\n",
            "   . . . doors              number of doors\n",
            "   . . . persons            capacity in terms of persons to carry\n",
            "   . . . lug_boot           the size of luggage boot\n",
            "   . . safety               estimated safety of the car\n",
            "\n",
            "   Input attributes are printed in lowercase. Besides the target\n",
            "   concept (CAR), the model includes three intermediate concepts:\n",
            "   PRICE, TECH, COMFORT. Every concept is in the original model\n",
            "   related to its lower level descendants by a set of examples (for\n",
            "   these examples sets see http://www-ai.ijs.si/BlazZupan/car.html).\n",
            "\n",
            "   The Car Evaluation Database contains examples with the structural\n",
            "   information removed, i.e., directly relates CAR to the six input\n",
            "   attributes: buying, maint, doors, persons, lug_boot, safety.\n",
            "\n",
            "   Because of known underlying concept structure, this database may be\n",
            "   particularly useful for testing constructive induction and\n",
            "   structure discovery methods.\n",
            "\n",
            "5. Number of Instances: 1728\n",
            "   (instances completely cover the attribute space)\n",
            "\n",
            "6. Number of Attributes: 6\n",
            "\n",
            "7. Attribute Values:\n",
            "\n",
            "   buying       v-high, high, med, low\n",
            "   maint        v-high, high, med, low\n",
            "   doors        2, 3, 4, 5-more\n",
            "   persons      2, 4, more\n",
            "   lug_boot     small, med, big\n",
            "   safety       low, med, high\n",
            "\n",
            "8. Missing Attribute Values: none\n",
            "\n",
            "9. Class Distribution (number of instances per class)\n",
            "\n",
            "   class      N          N[%]\n",
            "   -----------------------------\n",
            "   unacc     1210     (70.023 %) \n",
            "   acc        384     (22.222 %) \n",
            "   good        69     ( 3.993 %) \n",
            "   v-good      65     ( 3.762 %) \n",
            "vhigh,vhigh,2,2,small,low,unacc\n",
            "vhigh,vhigh,2,2,small,med,unacc\n",
            "vhigh,vhigh,2,2,small,high,unacc\n",
            "vhigh,vhigh,2,2,med,low,unacc\n",
            "vhigh,vhigh,2,2,med,med,unacc\n",
            "vhigh,vhigh,2,2,med,high,unacc\n",
            "vhigh,vhigh,2,2,big,low,unacc\n",
            "vhigh,vhigh,2,2,big,med,unacc\n",
            "vhigh,vhigh,2,2,big,high,unacc\n",
            "vhigh,vhigh,2,4,small,low,unacc\n"
          ]
        }
      ]
    },
    {
      "cell_type": "markdown",
      "source": [
        "Import the dataset"
      ],
      "metadata": {
        "id": "9G1vJ6jDvY_r"
      }
    },
    {
      "cell_type": "code",
      "source": [
        "cols = [\"buying\", \"maint\",\"doors\",\"persons\",\"lug_boot\",\"safety\",\"class\" ]\n",
        "df  = pd.read_csv('/content/car.data',names=cols)\n",
        "df.head()"
      ],
      "metadata": {
        "colab": {
          "base_uri": "https://localhost:8080/",
          "height": 206
        },
        "id": "TcVvawufvbbm",
        "outputId": "bb377e63-52a9-4a6a-fd1e-df3dd429def0"
      },
      "execution_count": 43,
      "outputs": [
        {
          "output_type": "execute_result",
          "data": {
            "text/plain": [
              "  buying  maint doors persons lug_boot safety  class\n",
              "0  vhigh  vhigh     2       2    small    low  unacc\n",
              "1  vhigh  vhigh     2       2    small    med  unacc\n",
              "2  vhigh  vhigh     2       2    small   high  unacc\n",
              "3  vhigh  vhigh     2       2      med    low  unacc\n",
              "4  vhigh  vhigh     2       2      med    med  unacc"
            ],
            "text/html": [
              "\n",
              "  <div id=\"df-58814d40-8dcc-4aaf-b159-0fa802b5eb3f\">\n",
              "    <div class=\"colab-df-container\">\n",
              "      <div>\n",
              "<style scoped>\n",
              "    .dataframe tbody tr th:only-of-type {\n",
              "        vertical-align: middle;\n",
              "    }\n",
              "\n",
              "    .dataframe tbody tr th {\n",
              "        vertical-align: top;\n",
              "    }\n",
              "\n",
              "    .dataframe thead th {\n",
              "        text-align: right;\n",
              "    }\n",
              "</style>\n",
              "<table border=\"1\" class=\"dataframe\">\n",
              "  <thead>\n",
              "    <tr style=\"text-align: right;\">\n",
              "      <th></th>\n",
              "      <th>buying</th>\n",
              "      <th>maint</th>\n",
              "      <th>doors</th>\n",
              "      <th>persons</th>\n",
              "      <th>lug_boot</th>\n",
              "      <th>safety</th>\n",
              "      <th>class</th>\n",
              "    </tr>\n",
              "  </thead>\n",
              "  <tbody>\n",
              "    <tr>\n",
              "      <th>0</th>\n",
              "      <td>vhigh</td>\n",
              "      <td>vhigh</td>\n",
              "      <td>2</td>\n",
              "      <td>2</td>\n",
              "      <td>small</td>\n",
              "      <td>low</td>\n",
              "      <td>unacc</td>\n",
              "    </tr>\n",
              "    <tr>\n",
              "      <th>1</th>\n",
              "      <td>vhigh</td>\n",
              "      <td>vhigh</td>\n",
              "      <td>2</td>\n",
              "      <td>2</td>\n",
              "      <td>small</td>\n",
              "      <td>med</td>\n",
              "      <td>unacc</td>\n",
              "    </tr>\n",
              "    <tr>\n",
              "      <th>2</th>\n",
              "      <td>vhigh</td>\n",
              "      <td>vhigh</td>\n",
              "      <td>2</td>\n",
              "      <td>2</td>\n",
              "      <td>small</td>\n",
              "      <td>high</td>\n",
              "      <td>unacc</td>\n",
              "    </tr>\n",
              "    <tr>\n",
              "      <th>3</th>\n",
              "      <td>vhigh</td>\n",
              "      <td>vhigh</td>\n",
              "      <td>2</td>\n",
              "      <td>2</td>\n",
              "      <td>med</td>\n",
              "      <td>low</td>\n",
              "      <td>unacc</td>\n",
              "    </tr>\n",
              "    <tr>\n",
              "      <th>4</th>\n",
              "      <td>vhigh</td>\n",
              "      <td>vhigh</td>\n",
              "      <td>2</td>\n",
              "      <td>2</td>\n",
              "      <td>med</td>\n",
              "      <td>med</td>\n",
              "      <td>unacc</td>\n",
              "    </tr>\n",
              "  </tbody>\n",
              "</table>\n",
              "</div>\n",
              "      <button class=\"colab-df-convert\" onclick=\"convertToInteractive('df-58814d40-8dcc-4aaf-b159-0fa802b5eb3f')\"\n",
              "              title=\"Convert this dataframe to an interactive table.\"\n",
              "              style=\"display:none;\">\n",
              "        \n",
              "  <svg xmlns=\"http://www.w3.org/2000/svg\" height=\"24px\"viewBox=\"0 0 24 24\"\n",
              "       width=\"24px\">\n",
              "    <path d=\"M0 0h24v24H0V0z\" fill=\"none\"/>\n",
              "    <path d=\"M18.56 5.44l.94 2.06.94-2.06 2.06-.94-2.06-.94-.94-2.06-.94 2.06-2.06.94zm-11 1L8.5 8.5l.94-2.06 2.06-.94-2.06-.94L8.5 2.5l-.94 2.06-2.06.94zm10 10l.94 2.06.94-2.06 2.06-.94-2.06-.94-.94-2.06-.94 2.06-2.06.94z\"/><path d=\"M17.41 7.96l-1.37-1.37c-.4-.4-.92-.59-1.43-.59-.52 0-1.04.2-1.43.59L10.3 9.45l-7.72 7.72c-.78.78-.78 2.05 0 2.83L4 21.41c.39.39.9.59 1.41.59.51 0 1.02-.2 1.41-.59l7.78-7.78 2.81-2.81c.8-.78.8-2.07 0-2.86zM5.41 20L4 18.59l7.72-7.72 1.47 1.35L5.41 20z\"/>\n",
              "  </svg>\n",
              "      </button>\n",
              "      \n",
              "  <style>\n",
              "    .colab-df-container {\n",
              "      display:flex;\n",
              "      flex-wrap:wrap;\n",
              "      gap: 12px;\n",
              "    }\n",
              "\n",
              "    .colab-df-convert {\n",
              "      background-color: #E8F0FE;\n",
              "      border: none;\n",
              "      border-radius: 50%;\n",
              "      cursor: pointer;\n",
              "      display: none;\n",
              "      fill: #1967D2;\n",
              "      height: 32px;\n",
              "      padding: 0 0 0 0;\n",
              "      width: 32px;\n",
              "    }\n",
              "\n",
              "    .colab-df-convert:hover {\n",
              "      background-color: #E2EBFA;\n",
              "      box-shadow: 0px 1px 2px rgba(60, 64, 67, 0.3), 0px 1px 3px 1px rgba(60, 64, 67, 0.15);\n",
              "      fill: #174EA6;\n",
              "    }\n",
              "\n",
              "    [theme=dark] .colab-df-convert {\n",
              "      background-color: #3B4455;\n",
              "      fill: #D2E3FC;\n",
              "    }\n",
              "\n",
              "    [theme=dark] .colab-df-convert:hover {\n",
              "      background-color: #434B5C;\n",
              "      box-shadow: 0px 1px 3px 1px rgba(0, 0, 0, 0.15);\n",
              "      filter: drop-shadow(0px 1px 2px rgba(0, 0, 0, 0.3));\n",
              "      fill: #FFFFFF;\n",
              "    }\n",
              "  </style>\n",
              "\n",
              "      <script>\n",
              "        const buttonEl =\n",
              "          document.querySelector('#df-58814d40-8dcc-4aaf-b159-0fa802b5eb3f button.colab-df-convert');\n",
              "        buttonEl.style.display =\n",
              "          google.colab.kernel.accessAllowed ? 'block' : 'none';\n",
              "\n",
              "        async function convertToInteractive(key) {\n",
              "          const element = document.querySelector('#df-58814d40-8dcc-4aaf-b159-0fa802b5eb3f');\n",
              "          const dataTable =\n",
              "            await google.colab.kernel.invokeFunction('convertToInteractive',\n",
              "                                                     [key], {});\n",
              "          if (!dataTable) return;\n",
              "\n",
              "          const docLinkHtml = 'Like what you see? Visit the ' +\n",
              "            '<a target=\"_blank\" href=https://colab.research.google.com/notebooks/data_table.ipynb>data table notebook</a>'\n",
              "            + ' to learn more about interactive tables.';\n",
              "          element.innerHTML = '';\n",
              "          dataTable['output_type'] = 'display_data';\n",
              "          await google.colab.output.renderOutput(dataTable, element);\n",
              "          const docLink = document.createElement('div');\n",
              "          docLink.innerHTML = docLinkHtml;\n",
              "          element.appendChild(docLink);\n",
              "        }\n",
              "      </script>\n",
              "    </div>\n",
              "  </div>\n",
              "  "
            ]
          },
          "metadata": {},
          "execution_count": 43
        }
      ]
    },
    {
      "cell_type": "markdown",
      "source": [
        "#### Preprocessing \n",
        "---\n",
        "Convert categorical data."
      ],
      "metadata": {
        "id": "QRGwQbnd2h4i"
      }
    },
    {
      "cell_type": "code",
      "source": [
        "df.buying = pd.Categorical(df.buying)\n",
        "df.buying = df.buying.cat.codes\n",
        "df.maint = pd.Categorical(df.maint)\n",
        "df.maint = df.maint.cat.codes\n",
        "df.lug_boot = pd.Categorical(df.lug_boot)\n",
        "df.lug_boot = df.lug_boot.cat.codes\n",
        "df.safety = pd.Categorical(df.safety)\n",
        "df.safety = df.safety.cat.codes\n",
        "\n",
        "#edit the doors values to numerical\n",
        "df[\"doors\"]  = np.where(df[\"doors\"] == \"more\", 5, df[\"doors\"] ) \n",
        "df[\"doors\"]  = np.where(df[\"doors\"] == \"5more\", 6, df[\"doors\"] ) \n",
        "df[\"doors\"] = pd.to_numeric(df[\"doors\"])\n",
        "df[\"persons\"]  = np.where(df[\"persons\"] == \"more\", 5, df[\"persons\"] ) \n",
        "df[\"persons\"] = pd.to_numeric(df[\"persons\"])"
      ],
      "metadata": {
        "id": "YErVhRaN2erd"
      },
      "execution_count": 49,
      "outputs": []
    },
    {
      "cell_type": "code",
      "source": [
        "df.describe().transpose()"
      ],
      "metadata": {
        "colab": {
          "base_uri": "https://localhost:8080/",
          "height": 237
        },
        "id": "Y03nQoqrxMBQ",
        "outputId": "bea1e123-3410-4b5e-9ae3-778609144f12"
      },
      "execution_count": 50,
      "outputs": [
        {
          "output_type": "execute_result",
          "data": {
            "text/plain": [
              "           count      mean       std  min   25%  50%   75%  max\n",
              "buying    1728.0  1.500000  1.118358  0.0  0.75  1.5  2.25  3.0\n",
              "maint     1728.0  1.500000  1.118358  0.0  0.75  1.5  2.25  3.0\n",
              "doors     1728.0  3.750000  1.479448  2.0  2.75  3.5  4.50  6.0\n",
              "persons   1728.0  3.666667  1.247580  2.0  2.00  4.0  5.00  5.0\n",
              "lug_boot  1728.0  1.000000  0.816733  0.0  0.00  1.0  2.00  2.0\n",
              "safety    1728.0  1.000000  0.816733  0.0  0.00  1.0  2.00  2.0"
            ],
            "text/html": [
              "\n",
              "  <div id=\"df-1f1062ba-a21f-4175-ab2e-74ceede61324\">\n",
              "    <div class=\"colab-df-container\">\n",
              "      <div>\n",
              "<style scoped>\n",
              "    .dataframe tbody tr th:only-of-type {\n",
              "        vertical-align: middle;\n",
              "    }\n",
              "\n",
              "    .dataframe tbody tr th {\n",
              "        vertical-align: top;\n",
              "    }\n",
              "\n",
              "    .dataframe thead th {\n",
              "        text-align: right;\n",
              "    }\n",
              "</style>\n",
              "<table border=\"1\" class=\"dataframe\">\n",
              "  <thead>\n",
              "    <tr style=\"text-align: right;\">\n",
              "      <th></th>\n",
              "      <th>count</th>\n",
              "      <th>mean</th>\n",
              "      <th>std</th>\n",
              "      <th>min</th>\n",
              "      <th>25%</th>\n",
              "      <th>50%</th>\n",
              "      <th>75%</th>\n",
              "      <th>max</th>\n",
              "    </tr>\n",
              "  </thead>\n",
              "  <tbody>\n",
              "    <tr>\n",
              "      <th>buying</th>\n",
              "      <td>1728.0</td>\n",
              "      <td>1.500000</td>\n",
              "      <td>1.118358</td>\n",
              "      <td>0.0</td>\n",
              "      <td>0.75</td>\n",
              "      <td>1.5</td>\n",
              "      <td>2.25</td>\n",
              "      <td>3.0</td>\n",
              "    </tr>\n",
              "    <tr>\n",
              "      <th>maint</th>\n",
              "      <td>1728.0</td>\n",
              "      <td>1.500000</td>\n",
              "      <td>1.118358</td>\n",
              "      <td>0.0</td>\n",
              "      <td>0.75</td>\n",
              "      <td>1.5</td>\n",
              "      <td>2.25</td>\n",
              "      <td>3.0</td>\n",
              "    </tr>\n",
              "    <tr>\n",
              "      <th>doors</th>\n",
              "      <td>1728.0</td>\n",
              "      <td>3.750000</td>\n",
              "      <td>1.479448</td>\n",
              "      <td>2.0</td>\n",
              "      <td>2.75</td>\n",
              "      <td>3.5</td>\n",
              "      <td>4.50</td>\n",
              "      <td>6.0</td>\n",
              "    </tr>\n",
              "    <tr>\n",
              "      <th>persons</th>\n",
              "      <td>1728.0</td>\n",
              "      <td>3.666667</td>\n",
              "      <td>1.247580</td>\n",
              "      <td>2.0</td>\n",
              "      <td>2.00</td>\n",
              "      <td>4.0</td>\n",
              "      <td>5.00</td>\n",
              "      <td>5.0</td>\n",
              "    </tr>\n",
              "    <tr>\n",
              "      <th>lug_boot</th>\n",
              "      <td>1728.0</td>\n",
              "      <td>1.000000</td>\n",
              "      <td>0.816733</td>\n",
              "      <td>0.0</td>\n",
              "      <td>0.00</td>\n",
              "      <td>1.0</td>\n",
              "      <td>2.00</td>\n",
              "      <td>2.0</td>\n",
              "    </tr>\n",
              "    <tr>\n",
              "      <th>safety</th>\n",
              "      <td>1728.0</td>\n",
              "      <td>1.000000</td>\n",
              "      <td>0.816733</td>\n",
              "      <td>0.0</td>\n",
              "      <td>0.00</td>\n",
              "      <td>1.0</td>\n",
              "      <td>2.00</td>\n",
              "      <td>2.0</td>\n",
              "    </tr>\n",
              "  </tbody>\n",
              "</table>\n",
              "</div>\n",
              "      <button class=\"colab-df-convert\" onclick=\"convertToInteractive('df-1f1062ba-a21f-4175-ab2e-74ceede61324')\"\n",
              "              title=\"Convert this dataframe to an interactive table.\"\n",
              "              style=\"display:none;\">\n",
              "        \n",
              "  <svg xmlns=\"http://www.w3.org/2000/svg\" height=\"24px\"viewBox=\"0 0 24 24\"\n",
              "       width=\"24px\">\n",
              "    <path d=\"M0 0h24v24H0V0z\" fill=\"none\"/>\n",
              "    <path d=\"M18.56 5.44l.94 2.06.94-2.06 2.06-.94-2.06-.94-.94-2.06-.94 2.06-2.06.94zm-11 1L8.5 8.5l.94-2.06 2.06-.94-2.06-.94L8.5 2.5l-.94 2.06-2.06.94zm10 10l.94 2.06.94-2.06 2.06-.94-2.06-.94-.94-2.06-.94 2.06-2.06.94z\"/><path d=\"M17.41 7.96l-1.37-1.37c-.4-.4-.92-.59-1.43-.59-.52 0-1.04.2-1.43.59L10.3 9.45l-7.72 7.72c-.78.78-.78 2.05 0 2.83L4 21.41c.39.39.9.59 1.41.59.51 0 1.02-.2 1.41-.59l7.78-7.78 2.81-2.81c.8-.78.8-2.07 0-2.86zM5.41 20L4 18.59l7.72-7.72 1.47 1.35L5.41 20z\"/>\n",
              "  </svg>\n",
              "      </button>\n",
              "      \n",
              "  <style>\n",
              "    .colab-df-container {\n",
              "      display:flex;\n",
              "      flex-wrap:wrap;\n",
              "      gap: 12px;\n",
              "    }\n",
              "\n",
              "    .colab-df-convert {\n",
              "      background-color: #E8F0FE;\n",
              "      border: none;\n",
              "      border-radius: 50%;\n",
              "      cursor: pointer;\n",
              "      display: none;\n",
              "      fill: #1967D2;\n",
              "      height: 32px;\n",
              "      padding: 0 0 0 0;\n",
              "      width: 32px;\n",
              "    }\n",
              "\n",
              "    .colab-df-convert:hover {\n",
              "      background-color: #E2EBFA;\n",
              "      box-shadow: 0px 1px 2px rgba(60, 64, 67, 0.3), 0px 1px 3px 1px rgba(60, 64, 67, 0.15);\n",
              "      fill: #174EA6;\n",
              "    }\n",
              "\n",
              "    [theme=dark] .colab-df-convert {\n",
              "      background-color: #3B4455;\n",
              "      fill: #D2E3FC;\n",
              "    }\n",
              "\n",
              "    [theme=dark] .colab-df-convert:hover {\n",
              "      background-color: #434B5C;\n",
              "      box-shadow: 0px 1px 3px 1px rgba(0, 0, 0, 0.15);\n",
              "      filter: drop-shadow(0px 1px 2px rgba(0, 0, 0, 0.3));\n",
              "      fill: #FFFFFF;\n",
              "    }\n",
              "  </style>\n",
              "\n",
              "      <script>\n",
              "        const buttonEl =\n",
              "          document.querySelector('#df-1f1062ba-a21f-4175-ab2e-74ceede61324 button.colab-df-convert');\n",
              "        buttonEl.style.display =\n",
              "          google.colab.kernel.accessAllowed ? 'block' : 'none';\n",
              "\n",
              "        async function convertToInteractive(key) {\n",
              "          const element = document.querySelector('#df-1f1062ba-a21f-4175-ab2e-74ceede61324');\n",
              "          const dataTable =\n",
              "            await google.colab.kernel.invokeFunction('convertToInteractive',\n",
              "                                                     [key], {});\n",
              "          if (!dataTable) return;\n",
              "\n",
              "          const docLinkHtml = 'Like what you see? Visit the ' +\n",
              "            '<a target=\"_blank\" href=https://colab.research.google.com/notebooks/data_table.ipynb>data table notebook</a>'\n",
              "            + ' to learn more about interactive tables.';\n",
              "          element.innerHTML = '';\n",
              "          dataTable['output_type'] = 'display_data';\n",
              "          await google.colab.output.renderOutput(dataTable, element);\n",
              "          const docLink = document.createElement('div');\n",
              "          docLink.innerHTML = docLinkHtml;\n",
              "          element.appendChild(docLink);\n",
              "        }\n",
              "      </script>\n",
              "    </div>\n",
              "  </div>\n",
              "  "
            ]
          },
          "metadata": {},
          "execution_count": 50
        }
      ]
    },
    {
      "cell_type": "code",
      "source": [
        "df.head"
      ],
      "metadata": {
        "colab": {
          "base_uri": "https://localhost:8080/"
        },
        "id": "vaB2hqzn9ESk",
        "outputId": "ef41f2ad-3b51-4fd9-cdd7-8e7b8c435ccf"
      },
      "execution_count": 51,
      "outputs": [
        {
          "output_type": "execute_result",
          "data": {
            "text/plain": [
              "<bound method NDFrame.head of       buying  maint  doors  persons  lug_boot  safety  class\n",
              "0          3      3      2        2         2       1  unacc\n",
              "1          3      3      2        2         2       2  unacc\n",
              "2          3      3      2        2         2       0  unacc\n",
              "3          3      3      2        2         1       1  unacc\n",
              "4          3      3      2        2         1       2  unacc\n",
              "...      ...    ...    ...      ...       ...     ...    ...\n",
              "1723       1      1      6        5         1       2   good\n",
              "1724       1      1      6        5         1       0  vgood\n",
              "1725       1      1      6        5         0       1  unacc\n",
              "1726       1      1      6        5         0       2   good\n",
              "1727       1      1      6        5         0       0  vgood\n",
              "\n",
              "[1728 rows x 7 columns]>"
            ]
          },
          "metadata": {},
          "execution_count": 51
        }
      ]
    },
    {
      "cell_type": "markdown",
      "source": [
        "Splitting the dataset"
      ],
      "metadata": {
        "id": "k2_B9fdbxg36"
      }
    },
    {
      "cell_type": "code",
      "source": [
        "#for splitting data into train and test set\n",
        "from sklearn.model_selection import train_test_split\n",
        "\n",
        "x=df.drop([\"class\"],axis=1).values\n",
        "\n",
        "y=df[\"class\"].values\n",
        "print(y)\n",
        "print(x)"
      ],
      "metadata": {
        "colab": {
          "base_uri": "https://localhost:8080/"
        },
        "id": "2GU9Ycc5xj2P",
        "outputId": "9966c8e1-fa1e-4ddf-cfd6-38cd7c6e41fb"
      },
      "execution_count": 52,
      "outputs": [
        {
          "output_type": "stream",
          "name": "stdout",
          "text": [
            "['unacc' 'unacc' 'unacc' ... 'unacc' 'good' 'vgood']\n",
            "[[3 3 2 2 2 1]\n",
            " [3 3 2 2 2 2]\n",
            " [3 3 2 2 2 0]\n",
            " ...\n",
            " [1 1 6 5 0 1]\n",
            " [1 1 6 5 0 2]\n",
            " [1 1 6 5 0 0]]\n"
          ]
        }
      ]
    },
    {
      "cell_type": "code",
      "source": [
        "#splitting test and train data\n",
        "x_train, x_test, y_train, y_test = train_test_split(x, y, test_size=0.2, random_state=42)"
      ],
      "metadata": {
        "id": "j8OmN8AB0ubM"
      },
      "execution_count": 53,
      "outputs": []
    },
    {
      "cell_type": "markdown",
      "source": [
        "Finding important features in the dataset"
      ],
      "metadata": {
        "id": "ZyXSITTevF1T"
      }
    },
    {
      "cell_type": "code",
      "execution_count": 54,
      "metadata": {
        "id": "0ZnM56K_pFbb",
        "colab": {
          "base_uri": "https://localhost:8080/"
        },
        "outputId": "f35b5a41-2667-4a54-c956-cbae560a0c4b"
      },
      "outputs": [
        {
          "output_type": "execute_result",
          "data": {
            "text/plain": [
              "RandomForestClassifier()"
            ]
          },
          "metadata": {},
          "execution_count": 54
        }
      ],
      "source": [
        "from sklearn.ensemble import RandomForestClassifier\n",
        "\n",
        "#Create a Gaussian Classifier\n",
        "clf=RandomForestClassifier(n_estimators=100)\n",
        "\n",
        "#Train the model using the training sets y_pred=clf.predict(X_test)\n",
        "clf.fit(x_train,y_train)\n"
      ]
    },
    {
      "cell_type": "markdown",
      "source": [
        "Important features"
      ],
      "metadata": {
        "id": "ZHceqFz5_kmT"
      }
    },
    {
      "cell_type": "code",
      "source": [],
      "metadata": {
        "id": "0D7hSprL_jlJ"
      },
      "execution_count": null,
      "outputs": []
    },
    {
      "cell_type": "code",
      "source": [
        "feature_imp = pd.Series(clf.feature_importances_,index=[\"buying\", \"maint\",\"doors\",\"persons\",\"lug_boot\",\"safety\"]).sort_values(ascending=False)\n",
        "feature_imp\n"
      ],
      "metadata": {
        "colab": {
          "base_uri": "https://localhost:8080/"
        },
        "id": "CDkuAujp-0R8",
        "outputId": "561f8484-092c-40df-90d0-358662acf8ad"
      },
      "execution_count": 55,
      "outputs": [
        {
          "output_type": "execute_result",
          "data": {
            "text/plain": [
              "safety      0.282242\n",
              "persons     0.214967\n",
              "buying      0.189261\n",
              "maint       0.159607\n",
              "lug_boot    0.087216\n",
              "doors       0.066707\n",
              "dtype: float64"
            ]
          },
          "metadata": {},
          "execution_count": 55
        }
      ]
    },
    {
      "cell_type": "markdown",
      "source": [
        "Visualize the importance"
      ],
      "metadata": {
        "id": "aQ-PH1Of_ib4"
      }
    },
    {
      "cell_type": "code",
      "source": [
        "import seaborn as sns\n",
        "%matplotlib inline\n",
        "# Creating a bar plot\n",
        "sns.barplot(x=feature_imp, y=feature_imp.index)\n",
        "# Add labels to your graph\n",
        "plt.xlabel('Feature Importance Score')\n",
        "plt.ylabel('Features')\n",
        "plt.title(\"Visualizing Important Features\")\n",
        "plt.legend()\n",
        "plt.show()\n"
      ],
      "metadata": {
        "colab": {
          "base_uri": "https://localhost:8080/",
          "height": 312
        },
        "id": "24T0Y0ct_wi-",
        "outputId": "ab40d5e4-1f00-4d68-cb1a-32f3c0e375c9"
      },
      "execution_count": 56,
      "outputs": [
        {
          "output_type": "stream",
          "name": "stderr",
          "text": [
            "WARNING:matplotlib.legend:No handles with labels found to put in legend.\n"
          ]
        },
        {
          "output_type": "display_data",
          "data": {
            "text/plain": [
              "<Figure size 432x288 with 1 Axes>"
            ],
            "image/png": "[encoded data removed]"
          },
          "metadata": {
            "needs_background": "light"
          }
        }
      ]
    },
    {
      "cell_type": "markdown",
      "source": [
        "#### Preditions\n",
        "---\n",
        "\n"
      ],
      "metadata": {
        "id": "BUNXHCd5AEWr"
      }
    },
    {
      "cell_type": "code",
      "source": [
        "y_pred=clf.predict(x_test)\n",
        "\n",
        "#Import scikit-learn metrics module for accuracy calculation\n",
        "from sklearn import metrics\n",
        "# Model Accuracy, how often is the classifier correct?\n",
        "print(\"Accuracy:\",metrics.accuracy_score(y_test, y_pred))\n"
      ],
      "metadata": {
        "colab": {
          "base_uri": "https://localhost:8080/"
        },
        "id": "75xtBOhbAL8x",
        "outputId": "78aca7a6-3b68-4519-a5e6-1bf754471914"
      },
      "execution_count": 57,
      "outputs": [
        {
          "output_type": "stream",
          "name": "stdout",
          "text": [
            "Accuracy: 0.9739884393063584\n"
          ]
        }
      ]
    }
  ]
}